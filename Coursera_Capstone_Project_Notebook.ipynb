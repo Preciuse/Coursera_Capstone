{
  "nbformat": 4,
  "nbformat_minor": 0,
  "metadata": {
    "colab": {
      "name": "Coursera Capstone Project Notebook",
      "provenance": [],
      "authorship_tag": "ABX9TyNxfFi+XqDR6h7pW1JnnshT",
      "include_colab_link": true
    },
    "kernelspec": {
      "name": "python3",
      "display_name": "Python 3"
    },
    "language_info": {
      "name": "python"
    }
  },
  "cells": [
    {
      "cell_type": "markdown",
      "metadata": {
        "id": "view-in-github",
        "colab_type": "text"
      },
      "source": [
        "<a href=\"https://colab.research.google.com/github/Preciuse/Coursera_Capstone/blob/main/Coursera_Capstone_Project_Notebook.ipynb\" target=\"_parent\"><img src=\"https://colab.research.google.com/assets/colab-badge.svg\" alt=\"Open In Colab\"/></a>"
      ]
    },
    {
      "cell_type": "markdown",
      "metadata": {
        "id": "Em0z2ir-HEe6"
      },
      "source": [
        "# Coursera Capstone Project Notebook"
      ]
    },
    {
      "cell_type": "code",
      "metadata": {
        "id": "jlvHddP-HB2d"
      },
      "source": [
        "import pandas as pd\n",
        "import Numpy as np"
      ],
      "execution_count": null,
      "outputs": []
    },
    {
      "cell_type": "code",
      "metadata": {
        "id": "f_iEaBIZHXA6"
      },
      "source": [
        "print(\"Hello Capstone Project Course!\")"
      ],
      "execution_count": null,
      "outputs": []
    }
  ]
}